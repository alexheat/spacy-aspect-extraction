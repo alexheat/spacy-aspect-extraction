{
 "metadata": {
  "language_info": {
   "codemirror_mode": {
    "name": "ipython",
    "version": 3
   },
   "file_extension": ".py",
   "mimetype": "text/x-python",
   "name": "python",
   "nbconvert_exporter": "python",
   "pygments_lexer": "ipython3",
   "version": "3.7.3-final"
  },
  "orig_nbformat": 2,
  "kernelspec": {
   "name": "python37364bitbaseconda47e10549e8ae452b876244350066705d",
   "display_name": "Python 3.7.3 64-bit ('base': conda)"
  }
 },
 "nbformat": 4,
 "nbformat_minor": 2,
 "cells": [
  {
   "cell_type": "code",
   "execution_count": 6,
   "metadata": {},
   "outputs": [],
   "source": [
    "from re import L\n",
    "from typing import Type\n",
    "import xml.etree.cElementTree as ET\n",
    "import spacy \n",
    "from spacy.gold import GoldParse\n",
    "from spacy.scorer import Scorer\n",
    "from spacy.util import minibatch, compounding\n",
    "from spacy.pipeline import EntityRuler\n",
    "from spacy.matcher import PhraseMatcher\n",
    "import pandas as pd\n",
    "import re\n",
    "import pytextrank \n",
    "import en_core_web_sm\n",
    "import numpy as np\n",
    "import random\n",
    "import io\n",
    "from collections import Counter\n",
    "\n",
    "#create a dataframe to store the results of the experiments \n",
    "cols = [\"dataset\",\"model\", \"precision\", \"recall\", \"f1\"]\n",
    "df = pd.DataFrame(columns =cols)\n",
    "\n",
    "#Shared functions \n",
    "def SaveModelResults(df, dataset, model, results):\n",
    "    \"\"\"Use this function to add the results of an experiments to the dataframe\"\"\"\n",
    "    row = pd.Series([dataset,model,results['p'],results['r'],results['f']], index = df.columns)\n",
    "    df = df.append(row, ignore_index=True)\n",
    "\n",
    "    return df\n",
    "\n",
    "def TrainAspectModel(dataset, modeloutput, iterations, drop):\n",
    "    # Train Aspect detection model using Spacy\n",
    "    nlp = spacy.blank(\"en\")\n",
    "    # Add entity recognizer to model if it's not in the pipeline\n",
    "    # nlp.create_pipe works for built-ins that are registered with spaCy\n",
    "    if \"ner\" not in nlp.pipe_names:\n",
    "        ner = nlp.create_pipe(\"ner\")\n",
    "        nlp.add_pipe(ner)\n",
    "        # otherwise, get it, so we can add labels to it\n",
    "    else:\n",
    "        ner = nlp.get_pipe(\"ner\")\n",
    "\n",
    "    ner.add_label(\"ASPECT\")\n",
    "    sizes = compounding(1.0, 4.0, 1.001)\n",
    "\n",
    "    optimizer = nlp.begin_training()\n",
    "    for i in range(iterations):\n",
    "        random.shuffle(dataset)\n",
    "        batches = minibatch(dataset, size=sizes)\n",
    "        losses = {}\n",
    "        \n",
    "        for batch in batches:\n",
    "            texts, annotations = zip(*batch)\n",
    "            nlp.update(texts, annotations, sgd=optimizer, drop=drop, losses=losses)\n",
    "\n",
    "        print(\"Losses\", losses)\n",
    "\n",
    "    nlp.to_disk(modeloutput,)\n",
    "\n",
    "def evaluate(ner_model, examples):\n",
    "    scorer = Scorer()\n",
    "    for input_, annot in examples:\n",
    "        doc_gold_text = ner_model.make_doc(input_)\n",
    "        gold = GoldParse(doc_gold_text, entities=annot)\n",
    "        pred_value = ner_model(input_)\n",
    "        scorer.score(pred_value, gold)\n",
    "    return scorer.scores"
   ]
  },
  {
   "cell_type": "code",
   "execution_count": 7,
   "metadata": {
    "tags": []
   },
   "outputs": [],
   "source": [
    "#Open the hotels xml file\n",
    "with io.open(\"hotels.xml\", 'r', encoding='utf-8-sig') as f:\n",
    "    contents = f.read()\n",
    "    escape_illegal_xml_characters = lambda x: re.sub(u'&', 'and', x)\n",
    "    contents = escape_illegal_xml_characters(contents)\n",
    "    tree = ET.fromstring(contents)\n",
    "\n",
    "with io.open(\"hotels.xml\", 'r', encoding='utf-8-sig') as f:\n",
    "    contents = f.read()\n",
    "    escape_illegal_xml_characters = lambda x: re.sub(u'&', 'and', x)\n",
    "    contents = escape_illegal_xml_characters(contents)\n",
    "    tree = ET.fromstring(contents)\n",
    "\n",
    "reviews_output_train = []\n",
    "reviews_output_test = []\n",
    "\n",
    "train_term_list = []\n",
    "test_term_list = []\n",
    "\n",
    "for fold in tree:\n",
    "    id = int(fold.attrib[\"id\"])\n",
    "    for instance in fold:\n",
    "        sample = ()\n",
    "        sentext = instance[0].text.lower()\n",
    "        annotations = {}\n",
    "        annotations['entities'] = []\n",
    "        LABEL = \"ASPECT\"\n",
    "        overlap = False   \n",
    "\n",
    "        for aspect in instance[1]:\n",
    "            aspect_text = aspect.attrib[\"content\"].lower()\n",
    "            try:\n",
    "                loc = aspect_text, re.search(aspect_text, sentext).span()\n",
    "                first = loc[1]\n",
    "\n",
    "                for a in annotations['entities']:\n",
    "                    #Make sure that the none of the entities overlap because \n",
    "                    # Spacy does not allow overlapping entities \n",
    "                    second = a\n",
    "                    if (int(first[0]) < int(second[1]) and int(first[1]) > int(second[0])):\n",
    "                        overlap = True\n",
    "                        break\n",
    "                    else:\n",
    "                        overlap = False   \n",
    "\n",
    "                if not overlap:\n",
    "                    annotations['entities'].append((loc[1][0], loc[1][1], LABEL))\n",
    "                    if id < 8:\n",
    "                        train_term_list.append(loc[0])\n",
    "                    else:\n",
    "                        test_term_list.append(loc[0])\n",
    "            except:\n",
    "                continue\n",
    "        \n",
    "        if id < 8:\n",
    "            sample = (sentext, annotations)\n",
    "            reviews_output_train.append(sample)\n",
    "\n",
    "        else:\n",
    "            sample = (sentext, annotations['entities'])\n",
    "            reviews_output_test.append(sample)\n",
    "\n",
    "TRAIN_DATA_HOTELS = reviews_output_train\n",
    "TEST_DATA_HOTELS = reviews_output_test\n",
    "\n",
    "TRAIN_TERMS_HOTELS = train_term_list\n",
    "TEST_TERMS_HOTELS = train_term_list"
   ]
  },
  {
   "cell_type": "code",
   "execution_count": 8,
   "metadata": {},
   "outputs": [],
   "source": [
    "#Read the laptops XML File\n",
    "def XMLToSpacyFormat(XMLFile, Type=\"Train\"):\n",
    "    tree = ET.parse(XMLFile)\n",
    "    reviews_input = tree.getroot()\n",
    "    reviews_output = []\n",
    "    termlist = []\n",
    "\n",
    "    for sentence in reviews_input:\n",
    "\n",
    "        sample = ()\n",
    "        sentext = sentence[0].text.lower()\n",
    "        annotations = {}\n",
    "        annotations['entities'] = []\n",
    "        LABEL = \"ASPECT\"\n",
    "\n",
    "        for aspectTerm in sentence.iter(\"aspectTerms\"):\n",
    "            for term in aspectTerm:\n",
    "                termlist.append(term.attrib[\"term\"].lower())\n",
    "                startTerm = int(term.attrib[\"from\"])\n",
    "                endTerm = int(term.attrib[\"to\"])\n",
    "                annotations['entities'].append((startTerm, endTerm,  LABEL))\n",
    "\n",
    "            if Type==\"Train\":\n",
    "                sample = (sentext, annotations)\n",
    "            else:\n",
    "                sample = (sentext, annotations['entities'])\n",
    "\n",
    "            reviews_output.append(sample)\n",
    "\n",
    "    return reviews_output, termlist\n",
    "\n",
    "TRAIN_DATA_LAPTOPS, TRAIN_TERMS_LAPTOPS = XMLToSpacyFormat(\"Laptop_Train_v2.xml\", \"Train\")\n",
    "TEST_DATA_LAPTOPS, TEST_TERMS_LAPTOPS = XMLToSpacyFormat(\"Laptops_Test_Data_phaseB.xml\", \"Test\")\n",
    "\n",
    "TRAIN_DATA_RESTAURANTS, TRAIN_TERMS_RESTAURANTS = XMLToSpacyFormat(\"Restaurants_Train_v2.xml\", \"Train\")\n",
    "TEST_DATA_RESTAURANTS, TEST_TERMS_RESTAURANTS = XMLToSpacyFormat(\"Restaurants_Test_Data_phaseB.xml\", \"Test\")\n",
    "\n",
    "\n"
   ]
  },
  {
   "cell_type": "code",
   "execution_count": 3,
   "metadata": {},
   "outputs": [],
   "source": [
    "# Training can take multiple hours so the training step is commented out\n",
    "# Pretrained models are loaded in a later step\n",
    "# TrainAspectModel(TRAIN_DATA_HOTELS,\"./models_hotels_drop\", 30, 0.35)\n",
    "# TrainAspectModel(TRAIN_DATA_LAPTOPS,\"./models_laptops_drop\", 30, 0.35)\n",
    "# TrainAspectModel(TRAIN_DATA_RESTAURANTS,\"./models_restaurants_drop\", 30, 0.35)"
   ]
  },
  {
   "cell_type": "code",
   "execution_count": 9,
   "metadata": {},
   "outputs": [],
   "source": [
    "#load and score the training models \n",
    "hotel_trained_model = spacy.load(\"./models_hotels_drop\")\n",
    "results = evaluate(hotel_trained_model, TEST_DATA_HOTELS)[\"ents_per_type\"][\"ASPECT\"]\n",
    "df = SaveModelResults(df, \"hotels\",\"trained\", results)\n",
    "\n",
    "laptop_trained_model = spacy.load(\"./models_laptops_drop\")\n",
    "results = evaluate(laptop_trained_model, TEST_DATA_LAPTOPS)[\"ents_per_type\"][\"ASPECT\"]\n",
    "df = SaveModelResults(df, \"laptops\",\"trained\", results)\n",
    "\n",
    "restaurant_trained_model = spacy.load(\"./models_restaurants_drop\")\n",
    "results = evaluate(restaurant_trained_model, TEST_DATA_RESTAURANTS)[\"ents_per_type\"][\"ASPECT\"]\n",
    "df = SaveModelResults(df, \"restaurants\",\"trained\", results)\n",
    "\n"
   ]
  },
  {
   "cell_type": "code",
   "execution_count": 10,
   "metadata": {},
   "outputs": [],
   "source": [
    "# Use the rule based matcher to create a rule\n",
    "# to extract nouns and assign them as ents\n",
    "# The same model can be used for all datasets \n",
    "rule_based_model = spacy.load(\"en_core_web_sm\")\n",
    "ruler = EntityRuler(rule_based_model)\n",
    "ruler.add_patterns([{\"label\": \"ASPECT\", \"pattern\": [{'POS': 'NOUN'}] }])\n",
    "rule_based_model.add_pipe(ruler)\n",
    "\n",
    "#Use the rule-based model on all of the datasets and save the results\n",
    "results = evaluate(rule_based_model, TEST_DATA_HOTELS)[\"ents_per_type\"][\"ASPECT\"]\n",
    "df = SaveModelResults(df, \"hotels\",\"rules\", results)\n",
    "\n",
    "results = evaluate(rule_based_model, TEST_DATA_LAPTOPS)[\"ents_per_type\"][\"ASPECT\"]\n",
    "df = SaveModelResults(df, \"laptops\",\"rules\", results)\n",
    "\n",
    "results = evaluate(rule_based_model, TEST_DATA_RESTAURANTS)[\"ents_per_type\"][\"ASPECT\"]\n",
    "df = SaveModelResults(df, \"restaurants\",\"rules\", results)\n",
    "\n",
    "blocked_terms = [\"hotel\"]\n",
    "component_cfg = {\"RemoveWords\": {'terms': blocked_terms}}\n",
    "\n",
    "def RemoveWords(doc, blocked_terms=[\"hotel\",\"laptop\",\"computer\",\"macbook\",\"restaurant\"]):\n",
    "  new_ents = ()\n",
    "  for ent in doc.ents:\n",
    "    if str(ent) not in blocked_terms:\n",
    "      new_ents += (ent,)\n",
    "  doc.ents = new_ents\n",
    "  return doc\n",
    "\n",
    "rule_based_model2 = spacy.load(\"en_core_web_sm\")\n",
    "ruler = EntityRuler(rule_based_model2)\n",
    "ruler.add_patterns([{\"label\": \"ASPECT\", \"pattern\": [{'POS': 'NOUN'}] }])\n",
    "rule_based_model2.add_pipe(ruler)\n",
    "rule_based_model2.add_pipe(RemoveWords)\n",
    "\n",
    "\n"
   ]
  },
  {
   "cell_type": "code",
   "execution_count": 11,
   "metadata": {},
   "outputs": [],
   "source": [
    "#Term-based model\n",
    "\n",
    "#Create a list of all unique aspects from the training data\n",
    "TRAIN_TERMS_HOTELS_UNIQUE = set(TRAIN_TERMS_HOTELS)\n",
    "\n",
    "nlp_hotel_ruler=spacy.load(\"en_core_web_sm\")\n",
    "ruler = EntityRuler(nlp_hotel_ruler)\n",
    "\n",
    "#Add one pattern for each term in the list of aspects\n",
    "for t in TRAIN_TERMS_HOTELS:\n",
    "    pattern=[{\"label\": \"ASPECT\", \"pattern\": t}]\n",
    "    ruler.add_patterns(pattern)\n",
    "\n",
    "nlp_hotel_ruler.add_pipe(ruler)\n",
    "\n",
    "results = evaluate(nlp_hotel_ruler, TEST_DATA_HOTELS)[\"ents_per_type\"][\"ASPECT\"]\n",
    "\n",
    "df = SaveModelResults(df, \"hotels\",\"terms\", results)\n",
    "\n"
   ]
  },
  {
   "cell_type": "code",
   "execution_count": 12,
   "metadata": {},
   "outputs": [],
   "source": [
    "#Term-based model\n",
    "\n",
    "#Create a list of all unique aspects from the training data\n",
    "TRAIN_TERMS_LAPTOPS_UNIQUE = set(TRAIN_TERMS_LAPTOPS)\n",
    "\n",
    "nlp_laptop_ruler=spacy.load(\"en_core_web_sm\")\n",
    "ruler = EntityRuler(nlp_laptop_ruler)\n",
    "\n",
    "#Add one pattern for each term in the list of aspects\n",
    "for t in TRAIN_TERMS_LAPTOPS_UNIQUE:\n",
    "    pattern=[{\"label\": \"ASPECT\", \"pattern\": t}]\n",
    "    ruler.add_patterns(pattern)\n",
    "\n",
    "nlp_laptop_ruler.add_pipe(ruler)\n",
    "\n",
    "results = evaluate(nlp_laptop_ruler, TEST_DATA_LAPTOPS)[\"ents_per_type\"][\"ASPECT\"]\n",
    "\n",
    "df = SaveModelResults(df, \"laptops\",\"terms\", results)\n"
   ]
  },
  {
   "cell_type": "code",
   "execution_count": 13,
   "metadata": {},
   "outputs": [],
   "source": [
    "#Term-based model\n",
    "\n",
    "#Create a list of all unique aspects from the training data\n",
    "TRAIN_TERMS_RESTAURANTS_UNIQUE = set(TRAIN_TERMS_HOTELS)\n",
    "\n",
    "nlp_restaurant_ruler=spacy.load(\"en_core_web_sm\")\n",
    "ruler = EntityRuler(nlp_laptop_ruler)\n",
    "\n",
    "#Add one pattern for each term in the list of aspects\n",
    "for t in TRAIN_TERMS_RESTAURANTS_UNIQUE:\n",
    "    pattern=[{\"label\": \"ASPECT\", \"pattern\": t}]\n",
    "    ruler.add_patterns(pattern)\n",
    "\n",
    "nlp_restaurant_ruler.add_pipe(ruler)\n",
    "\n",
    "results = evaluate(nlp_restaurant_ruler, TEST_DATA_RESTAURANTS)[\"ents_per_type\"][\"ASPECT\"]\n",
    "\n",
    "df = SaveModelResults(df, \"restaurants\",\"terms\", results)"
   ]
  },
  {
   "cell_type": "code",
   "execution_count": 14,
   "metadata": {},
   "outputs": [],
   "source": [
    "#Use the rule-based model on all of the datasets and save the results\n",
    "results = evaluate(rule_based_model2, TEST_DATA_HOTELS)[\"ents_per_type\"][\"ASPECT\"]\n",
    "df = SaveModelResults(df, \"hotels\",\"rules2\", results)\n",
    "\n",
    "results = evaluate(rule_based_model2, TEST_DATA_LAPTOPS)[\"ents_per_type\"][\"ASPECT\"]\n",
    "df = SaveModelResults(df, \"laptops\",\"rules2\", results)\n",
    "\n",
    "results = evaluate(rule_based_model2, TEST_DATA_RESTAURANTS)[\"ents_per_type\"][\"ASPECT\"]\n",
    "df = SaveModelResults(df, \"restaurants\",\"rules2\", results)\n"
   ]
  },
  {
   "cell_type": "code",
   "execution_count": 15,
   "metadata": {},
   "outputs": [
    {
     "output_type": "execute_result",
     "data": {
      "text/plain": [
       "        dataset    model  precision     recall         f1\n",
       "0        hotels  trained  70.771757  76.283186  73.424191\n",
       "1       laptops  trained  71.451104  71.451104  71.451104\n",
       "2   restaurants  trained  78.048780  76.460177  77.246312\n",
       "3        hotels    rules  24.839400  82.123894  38.142211\n",
       "4       laptops    rules  23.266023  41.798107  29.892837\n",
       "5   restaurants    rules  42.251886  64.424779  51.033999\n",
       "6        hotels    terms  48.178980  81.946903  60.681520\n",
       "7       laptops    terms  57.096774  55.835962  56.459330\n",
       "8   restaurants    terms  58.452722  36.106195  44.638950\n",
       "9        hotels   rules2  26.550725  81.061947  40.000000\n",
       "10      laptops   rules2  24.514339  41.798107  30.903790\n",
       "11  restaurants   rules2  42.748092  64.424779  51.394282"
      ],
      "text/html": "<div>\n<style scoped>\n    .dataframe tbody tr th:only-of-type {\n        vertical-align: middle;\n    }\n\n    .dataframe tbody tr th {\n        vertical-align: top;\n    }\n\n    .dataframe thead th {\n        text-align: right;\n    }\n</style>\n<table border=\"1\" class=\"dataframe\">\n  <thead>\n    <tr style=\"text-align: right;\">\n      <th></th>\n      <th>dataset</th>\n      <th>model</th>\n      <th>precision</th>\n      <th>recall</th>\n      <th>f1</th>\n    </tr>\n  </thead>\n  <tbody>\n    <tr>\n      <th>0</th>\n      <td>hotels</td>\n      <td>trained</td>\n      <td>70.771757</td>\n      <td>76.283186</td>\n      <td>73.424191</td>\n    </tr>\n    <tr>\n      <th>1</th>\n      <td>laptops</td>\n      <td>trained</td>\n      <td>71.451104</td>\n      <td>71.451104</td>\n      <td>71.451104</td>\n    </tr>\n    <tr>\n      <th>2</th>\n      <td>restaurants</td>\n      <td>trained</td>\n      <td>78.048780</td>\n      <td>76.460177</td>\n      <td>77.246312</td>\n    </tr>\n    <tr>\n      <th>3</th>\n      <td>hotels</td>\n      <td>rules</td>\n      <td>24.839400</td>\n      <td>82.123894</td>\n      <td>38.142211</td>\n    </tr>\n    <tr>\n      <th>4</th>\n      <td>laptops</td>\n      <td>rules</td>\n      <td>23.266023</td>\n      <td>41.798107</td>\n      <td>29.892837</td>\n    </tr>\n    <tr>\n      <th>5</th>\n      <td>restaurants</td>\n      <td>rules</td>\n      <td>42.251886</td>\n      <td>64.424779</td>\n      <td>51.033999</td>\n    </tr>\n    <tr>\n      <th>6</th>\n      <td>hotels</td>\n      <td>terms</td>\n      <td>48.178980</td>\n      <td>81.946903</td>\n      <td>60.681520</td>\n    </tr>\n    <tr>\n      <th>7</th>\n      <td>laptops</td>\n      <td>terms</td>\n      <td>57.096774</td>\n      <td>55.835962</td>\n      <td>56.459330</td>\n    </tr>\n    <tr>\n      <th>8</th>\n      <td>restaurants</td>\n      <td>terms</td>\n      <td>58.452722</td>\n      <td>36.106195</td>\n      <td>44.638950</td>\n    </tr>\n    <tr>\n      <th>9</th>\n      <td>hotels</td>\n      <td>rules2</td>\n      <td>26.550725</td>\n      <td>81.061947</td>\n      <td>40.000000</td>\n    </tr>\n    <tr>\n      <th>10</th>\n      <td>laptops</td>\n      <td>rules2</td>\n      <td>24.514339</td>\n      <td>41.798107</td>\n      <td>30.903790</td>\n    </tr>\n    <tr>\n      <th>11</th>\n      <td>restaurants</td>\n      <td>rules2</td>\n      <td>42.748092</td>\n      <td>64.424779</td>\n      <td>51.394282</td>\n    </tr>\n  </tbody>\n</table>\n</div>"
     },
     "metadata": {},
     "execution_count": 15
    }
   ],
   "source": [
    "#output performance metrics\n",
    "df"
   ]
  },
  {
   "cell_type": "code",
   "execution_count": 16,
   "metadata": {},
   "outputs": [],
   "source": [
    "\n",
    "def ExtractTerms(model, dataset):\n",
    "    \"\"\"Extract a list of entities that are created by a model and a dataset. \n",
    "    This used to understand what kind of entities are extracted to debug the model.\"\"\"\n",
    "    terms = []\n",
    "    for r in dataset:\n",
    "        doc = model(r[0])\n",
    "        ents = doc.ents\n",
    "        for e in ents:\n",
    "            terms.append(str(e))\n",
    "    return terms\n",
    "\n",
    "def CountTerms(term_list):\n",
    "    \"\"\"Take a list of terms and return the counts of the most common terms as a \n",
    "    Pandas series.\"\"\"\n",
    "    # Creating the index \n",
    "    counts = pd.Index(term_list, name ='Terms').value_counts()\n",
    "    return counts\n",
    "\n"
   ]
  },
  {
   "cell_type": "code",
   "execution_count": 17,
   "metadata": {},
   "outputs": [
    {
     "output_type": "execute_result",
     "data": {
      "text/plain": [
       "food          126\n",
       "service        75\n",
       "atmosphere     24\n",
       "staff          21\n",
       "menu           18\n",
       "sushi          18\n",
       "prices         17\n",
       "meal           14\n",
       "drinks         13\n",
       "waiter         13\n",
       "Name: Terms, dtype: int64"
      ]
     },
     "metadata": {},
     "execution_count": 17
    }
   ],
   "source": [
    "# user to explore is a specific term is extracted\n",
    "# terms = ExtractTerms(restaurant_hotel_trained_model, TEST_DATA_LAPTOPS)\n",
    "# dd = CountTerms(terms)\n",
    "# dd.index.contains('service')\n",
    "terms = ExtractTerms(restaurant_trained_model, TEST_DATA_RESTAURANTS)\n",
    "CountTerms(terms)[:10]"
   ]
  },
  {
   "cell_type": "code",
   "execution_count": 19,
   "metadata": {},
   "outputs": [],
   "source": [
    "#Create blended models \n",
    "#1 Use the models trained on one dataset and evaulate it using other datasets\n",
    "#The goal is to see how if the model that serve as a generic model that works\n",
    "#Well on other datasets \n",
    "\n",
    "df_trainon1_testonothers = pd.DataFrame(columns =cols)"
   ]
  },
  {
   "cell_type": "code",
   "execution_count": 20,
   "metadata": {},
   "outputs": [
    {
     "output_type": "execute_result",
     "data": {
      "text/plain": [
       "       dataset                   model  precision     recall         f1\n",
       "0      laptops       trained on hotels  36.567164   7.728707  12.760417\n",
       "1  restaurants       trained on hotels  72.813688  33.893805  46.256039\n",
       "2       hotels      trained on laptops  34.702259  29.911504  32.129278\n",
       "3  restaurants      trained on laptops  53.597122  26.371681  35.349941\n",
       "4       hotels  trained on restaurants  46.153846  58.407080  51.562500\n",
       "5      laptops  trained on restaurants  39.473684  21.293375  27.663934"
      ],
      "text/html": "<div>\n<style scoped>\n    .dataframe tbody tr th:only-of-type {\n        vertical-align: middle;\n    }\n\n    .dataframe tbody tr th {\n        vertical-align: top;\n    }\n\n    .dataframe thead th {\n        text-align: right;\n    }\n</style>\n<table border=\"1\" class=\"dataframe\">\n  <thead>\n    <tr style=\"text-align: right;\">\n      <th></th>\n      <th>dataset</th>\n      <th>model</th>\n      <th>precision</th>\n      <th>recall</th>\n      <th>f1</th>\n    </tr>\n  </thead>\n  <tbody>\n    <tr>\n      <th>0</th>\n      <td>laptops</td>\n      <td>trained on hotels</td>\n      <td>36.567164</td>\n      <td>7.728707</td>\n      <td>12.760417</td>\n    </tr>\n    <tr>\n      <th>1</th>\n      <td>restaurants</td>\n      <td>trained on hotels</td>\n      <td>72.813688</td>\n      <td>33.893805</td>\n      <td>46.256039</td>\n    </tr>\n    <tr>\n      <th>2</th>\n      <td>hotels</td>\n      <td>trained on laptops</td>\n      <td>34.702259</td>\n      <td>29.911504</td>\n      <td>32.129278</td>\n    </tr>\n    <tr>\n      <th>3</th>\n      <td>restaurants</td>\n      <td>trained on laptops</td>\n      <td>53.597122</td>\n      <td>26.371681</td>\n      <td>35.349941</td>\n    </tr>\n    <tr>\n      <th>4</th>\n      <td>hotels</td>\n      <td>trained on restaurants</td>\n      <td>46.153846</td>\n      <td>58.407080</td>\n      <td>51.562500</td>\n    </tr>\n    <tr>\n      <th>5</th>\n      <td>laptops</td>\n      <td>trained on restaurants</td>\n      <td>39.473684</td>\n      <td>21.293375</td>\n      <td>27.663934</td>\n    </tr>\n  </tbody>\n</table>\n</div>"
     },
     "metadata": {},
     "execution_count": 20
    }
   ],
   "source": [
    "results = evaluate(hotel_trained_model, TEST_DATA_LAPTOPS)[\"ents_per_type\"][\"ASPECT\"]\n",
    "df_trainon1_testonothers = SaveModelResults(df_trainon1_testonothers, \"laptops\",\"trained on hotels\", results)\n",
    "\n",
    "results = evaluate(hotel_trained_model, TEST_DATA_RESTAURANTS)[\"ents_per_type\"][\"ASPECT\"]\n",
    "df_trainon1_testonothers = SaveModelResults(df_trainon1_testonothers, \"restaurants\",\"trained on hotels\", results)\n",
    "\n",
    "results = evaluate(laptop_trained_model, TEST_DATA_HOTELS)[\"ents_per_type\"][\"ASPECT\"]\n",
    "df_trainon1_testonothers = SaveModelResults(df_trainon1_testonothers, \"hotels\",\"trained on laptops\", results)\n",
    "\n",
    "results = evaluate(laptop_trained_model, TEST_DATA_RESTAURANTS)[\"ents_per_type\"][\"ASPECT\"]\n",
    "df_trainon1_testonothers = SaveModelResults(df_trainon1_testonothers, \"restaurants\",\"trained on laptops\", results)\n",
    "\n",
    "results = evaluate(restaurant_trained_model, TEST_DATA_HOTELS)[\"ents_per_type\"][\"ASPECT\"]\n",
    "df_trainon1_testonothers = SaveModelResults(df_trainon1_testonothers, \"hotels\",\"trained on restaurants\", results)\n",
    "\n",
    "results = evaluate(restaurant_trained_model, TEST_DATA_LAPTOPS)[\"ents_per_type\"][\"ASPECT\"]\n",
    "df_trainon1_testonothers = SaveModelResults(df_trainon1_testonothers, \"laptops\",\"trained on restaurants\", results)\n",
    "\n",
    "df_trainon1_testonothers"
   ]
  },
  {
   "cell_type": "code",
   "execution_count": 22,
   "metadata": {},
   "outputs": [],
   "source": [
    "#Build datasets that are combinations of two different datasets \n",
    "\n",
    "TRAIN_DATA_LAPTOPS_HOTELS = TRAIN_DATA_LAPTOPS + TRAIN_DATA_HOTELS\n",
    "TRAIN_DATA_RESTAURANTS_HOTELS = TRAIN_DATA_RESTAURANTS + TRAIN_DATA_HOTELS\n",
    "TRAIN_DATA_RESTAURANTS_LAPTOPS = TRAIN_DATA_RESTAURANTS + TRAIN_DATA_LAPTOPS"
   ]
  },
  {
   "cell_type": "code",
   "execution_count": 24,
   "metadata": {},
   "outputs": [],
   "source": [
    "# Train models on 2 datasets \n",
    "# Training can take multiple hours so the training step is commented out\n",
    "# Pretrained models are loaded in a later step\n",
    "# TrainAspectModel(TRAIN_DATA_LAPTOPS_HOTELS,\"./models_hotels_laptops_drop\", 30, 0.35)\n",
    "# TrainAspectModel(TRAIN_DATA_RESTAURANTS_HOTELS,\"./models_restaurants_hotels_drop\", 30, 0.35)\n",
    "# TrainAspectModel(TRAIN_DATA_RESTAURANTS_LAPTOPS,\"./models_restaurants_laptops_drop\", 30, 0.35)"
   ]
  },
  {
   "cell_type": "code",
   "execution_count": 25,
   "metadata": {},
   "outputs": [],
   "source": [
    "#Create blended models \n",
    "#Train a model on two datasets and apply it to a third data set\n",
    "\n",
    "df_trainon2_testonother = pd.DataFrame(columns =[\"dataset\",\"trained on\",\"precision\",\"recall\",\"f1\"])\n",
    "\n",
    "#load and score the training models \n",
    "hotel_laptop_trained_model = spacy.load(\"./models_hotels_laptops_drop\")\n",
    "results = evaluate(hotel_laptop_trained_model, TEST_DATA_RESTAURANTS)[\"ents_per_type\"][\"ASPECT\"]\n",
    "df_trainon2_testonother = SaveModelResults(df_trainon2_testonother, \"restaurant\",\"hotel+laptop\", results)\n",
    "\n",
    "restaurant_laptop_trained_model = spacy.load(\"./models_restaurants_laptops_drop\")\n",
    "results = evaluate(restaurant_laptop_trained_model, TEST_DATA_HOTELS)[\"ents_per_type\"][\"ASPECT\"]\n",
    "df_trainon2_testonother = SaveModelResults(df_trainon2_testonother, \"hotel\",\"restaurant+laptop\", results)\n",
    "\n",
    "restaurant_hotel_trained_model = spacy.load(\"./models_restaurants_hotels_drop\")\n",
    "results = evaluate(restaurant_hotel_trained_model, TEST_DATA_LAPTOPS)[\"ents_per_type\"][\"ASPECT\"]\n",
    "df_trainon2_testonother = SaveModelResults(df_trainon2_testonother, \"laptops\",\"restaurant+hotel\", results)"
   ]
  },
  {
   "cell_type": "code",
   "execution_count": 27,
   "metadata": {},
   "outputs": [
    {
     "output_type": "execute_result",
     "data": {
      "text/plain": [
       "      dataset         trained on  precision     recall         f1\n",
       "0  restaurant       hotel+laptop  72.340426  33.097345  45.415908\n",
       "1       hotel  restaurant+laptop  48.547718  62.123894  54.503106\n",
       "2     laptops   restaurant+hotel  41.935484  12.302839  19.024390"
      ],
      "text/html": "<div>\n<style scoped>\n    .dataframe tbody tr th:only-of-type {\n        vertical-align: middle;\n    }\n\n    .dataframe tbody tr th {\n        vertical-align: top;\n    }\n\n    .dataframe thead th {\n        text-align: right;\n    }\n</style>\n<table border=\"1\" class=\"dataframe\">\n  <thead>\n    <tr style=\"text-align: right;\">\n      <th></th>\n      <th>dataset</th>\n      <th>trained on</th>\n      <th>precision</th>\n      <th>recall</th>\n      <th>f1</th>\n    </tr>\n  </thead>\n  <tbody>\n    <tr>\n      <th>0</th>\n      <td>restaurant</td>\n      <td>hotel+laptop</td>\n      <td>72.340426</td>\n      <td>33.097345</td>\n      <td>45.415908</td>\n    </tr>\n    <tr>\n      <th>1</th>\n      <td>hotel</td>\n      <td>restaurant+laptop</td>\n      <td>48.547718</td>\n      <td>62.123894</td>\n      <td>54.503106</td>\n    </tr>\n    <tr>\n      <th>2</th>\n      <td>laptops</td>\n      <td>restaurant+hotel</td>\n      <td>41.935484</td>\n      <td>12.302839</td>\n      <td>19.024390</td>\n    </tr>\n  </tbody>\n</table>\n</div>"
     },
     "metadata": {},
     "execution_count": 27
    }
   ],
   "source": [
    "df_trainon2_testonother"
   ]
  },
  {
   "cell_type": "code",
   "execution_count": 35,
   "metadata": {},
   "outputs": [
    {
     "output_type": "execute_result",
     "data": {
      "text/plain": [
       "settings                 1\n",
       "apple removed the dvd    1\n",
       "creation                 1\n",
       "simplicity               1\n",
       "quality                  1\n",
       "customer service         1\n",
       "priced                   1\n",
       "graphics chipset         1\n",
       "computers                1\n",
       "seamless                 1\n",
       "baterry                  1\n",
       "network lights           1\n",
       "customize setting        1\n",
       "graphics stuff           1\n",
       "laptop                   1\n",
       "stable                   1\n",
       "room                     1\n",
       "acers                    1\n",
       "experienced              1\n",
       "retina                   1\n",
       "Name: Terms, dtype: int64"
      ]
     },
     "metadata": {},
     "execution_count": 35
    }
   ],
   "source": [
    "terms = ExtractTerms(restaurant_hotel_trained_model, TEST_DATA_LAPTOPS)\n",
    "CountTerms(terms)[60:80]"
   ]
  },
  {
   "cell_type": "code",
   "execution_count": 28,
   "metadata": {},
   "outputs": [],
   "source": [
    "#Create blended models \n",
    "#Train a model on 3 datasets and apply it to each of the test data sets\n",
    "#Select the same number of samples from each dataset to minimize bias\n",
    "\n",
    "random.shuffle(TRAIN_DATA_LAPTOPS)\n",
    "random.shuffle(TRAIN_DATA_HOTELS)\n",
    "random.shuffle(TRAIN_DATA_RESTAURANTS)\n",
    "\n",
    "\n",
    "TRAIN_DATA_ALL = TRAIN_DATA_LAPTOPS[:1488] + TRAIN_DATA_HOTELS[:1488] + TRAIN_DATA_RESTAURANTS[:1488]\n",
    "\n",
    "# Training can take multiple hours so the training step is commented out\n",
    "# Pretrained models are loaded in a later step\n",
    "# TrainAspectModel(TRAIN_DATA_ALL,\"./models_all_drop\", 30, 0.35)\n"
   ]
  },
  {
   "cell_type": "code",
   "execution_count": 29,
   "metadata": {},
   "outputs": [
    {
     "output_type": "execute_result",
     "data": {
      "text/plain": [
       "      dataset trained on  precision     recall         f1\n",
       "0  restaurant        all  77.276909  74.336283  75.778078\n",
       "1       hotel        all  60.258250  74.336283  66.561014\n",
       "2     laptops        all  73.848684  70.820189  72.302738"
      ],
      "text/html": "<div>\n<style scoped>\n    .dataframe tbody tr th:only-of-type {\n        vertical-align: middle;\n    }\n\n    .dataframe tbody tr th {\n        vertical-align: top;\n    }\n\n    .dataframe thead th {\n        text-align: right;\n    }\n</style>\n<table border=\"1\" class=\"dataframe\">\n  <thead>\n    <tr style=\"text-align: right;\">\n      <th></th>\n      <th>dataset</th>\n      <th>trained on</th>\n      <th>precision</th>\n      <th>recall</th>\n      <th>f1</th>\n    </tr>\n  </thead>\n  <tbody>\n    <tr>\n      <th>0</th>\n      <td>restaurant</td>\n      <td>all</td>\n      <td>77.276909</td>\n      <td>74.336283</td>\n      <td>75.778078</td>\n    </tr>\n    <tr>\n      <th>1</th>\n      <td>hotel</td>\n      <td>all</td>\n      <td>60.258250</td>\n      <td>74.336283</td>\n      <td>66.561014</td>\n    </tr>\n    <tr>\n      <th>2</th>\n      <td>laptops</td>\n      <td>all</td>\n      <td>73.848684</td>\n      <td>70.820189</td>\n      <td>72.302738</td>\n    </tr>\n  </tbody>\n</table>\n</div>"
     },
     "metadata": {},
     "execution_count": 29
    }
   ],
   "source": [
    "df_trainon3_testonother = pd.DataFrame(columns =[\"dataset\",\"trained on\",\"precision\",\"recall\",\"f1\"])\n",
    "\n",
    "#load and score the training models \n",
    "trained_model_all = spacy.load(\"./models_all_drop\")\n",
    "results = evaluate(trained_model_all, TEST_DATA_RESTAURANTS)[\"ents_per_type\"][\"ASPECT\"]\n",
    "df_trainon3_testonother = SaveModelResults(df_trainon3_testonother, \"restaurant\",\"all\", results)\n",
    "\n",
    "results = evaluate(trained_model_all, TEST_DATA_HOTELS)[\"ents_per_type\"][\"ASPECT\"]\n",
    "df_trainon3_testonother = SaveModelResults(df_trainon3_testonother, \"hotel\",\"all\", results)\n",
    "\n",
    "results = evaluate(trained_model_all, TEST_DATA_LAPTOPS)[\"ents_per_type\"][\"ASPECT\"]\n",
    "df_trainon3_testonother = SaveModelResults(df_trainon3_testonother, \"laptops\",\"all\", results)\n",
    "\n",
    "df_trainon3_testonother"
   ]
  },
  {
   "cell_type": "code",
   "execution_count": 57,
   "metadata": {},
   "outputs": [
    {
     "output_type": "display_data",
     "data": {
      "text/plain": "<IPython.core.display.HTML object>",
      "text/html": "<span class=\"tex2jax_ignore\"><div class=\"entities\" style=\"line-height: 2.5; direction: ltr\">I charge it at night and skip taking the \n<mark class=\"entity\" style=\"background: #ddd; padding: 0.45em 0.6em; margin: 0 0.25em; line-height: 1; border-radius: 0.35em;\">\n    cord\n    <span style=\"font-size: 0.8em; font-weight: bold; line-height: 1; border-radius: 0.35em; text-transform: uppercase; vertical-align: middle; margin-left: 0.5rem\">ASPECT</span>\n</mark>\n with me because of the good \n<mark class=\"entity\" style=\"background: #ddd; padding: 0.45em 0.6em; margin: 0 0.25em; line-height: 1; border-radius: 0.35em;\">\n    battery life\n    <span style=\"font-size: 0.8em; font-weight: bold; line-height: 1; border-radius: 0.35em; text-transform: uppercase; vertical-align: middle; margin-left: 0.5rem\">ASPECT</span>\n</mark>\n.</div></span>"
     },
     "metadata": {}
    }
   ],
   "source": [
    "#Sample using displacy to visualize aspects \n",
    "import spacy\n",
    "from spacy import displacy\n",
    "\n",
    "doc = laptop_trained_model(\"I charge it at night and skip taking the cord with me because of the good battery life.\")\n",
    "displacy.render(doc, style=\"ent\", jupyter=True, )\n"
   ]
  }
 ]
}